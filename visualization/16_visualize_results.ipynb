{
 "cells": [
  {
   "cell_type": "markdown",
   "metadata": {},
   "source": [
    "## Visualize GLow results in 16+4 scenario"
   ]
  },
  {
   "cell_type": "code",
   "execution_count": null,
   "metadata": {},
   "outputs": [],
   "source": [
    "from logging import WARNING, INFO\n",
    "from typing import Callable, Dict, List, Optional, Tuple, Union\n",
    "import numpy as np\n",
    "from pathlib import Path\n",
    "import matplotlib.pyplot as plt\n",
    "from matplotlib import cm"
   ]
  },
  {
   "cell_type": "markdown",
   "metadata": {},
   "source": [
    "### Parse output data"
   ]
  },
  {
   "cell_type": "code",
   "execution_count": null,
   "metadata": {},
   "outputs": [],
   "source": [
    "run_name = 'graph_16_32'\n",
    "seed = '1999'\n",
    "save_path = '../plots/'\n",
    "#file_path = 'outputs/no_pretrain/' + 'seed_' + seed + '/' + run_name #NEED TO READ ALL FILES\n",
    "root_path = '../outputs/GL/CIFAR10/seed1999_rounds2048/'\n",
    "file_path = root_path + run_name\n",
    "num_agents = 20"
   ]
  },
  {
   "cell_type": "code",
   "execution_count": null,
   "metadata": {},
   "outputs": [],
   "source": [
    "tplgys = []\n",
    "raw_tplgys = []\n",
    "acc_distr = []\n",
    "for i in range(9):\n",
    "    # Read file\n",
    "    file = open(file_path+'/'+str(i)+'_'+run_name+'_pool.out', mode = 'r', encoding = 'utf-8-sig')\n",
    "    lines = file.readlines()\n",
    "    tplgys.append(lines)\n",
    "    file.close()\n",
    "\n",
    "    # Read file\n",
    "    file = open(file_path+'/'+str(i)+'_'+run_name+'_raw.out', mode = 'r', encoding = 'utf-8-sig')\n",
    "    r_lines = file.readlines()\n",
    "    raw_tplgys.append(r_lines)\n",
    "    file.close()\n",
    "\n",
    "    # Read file\n",
    "    file = open(file_path+'/'+str(i)+'_'+run_name+'_acc_distr.out', mode = 'r', encoding = 'utf-8-sig')\n",
    "    a_lines = file.readlines()\n",
    "    acc_distr.append(a_lines)\n",
    "    file.close()"
   ]
  },
  {
   "cell_type": "code",
   "execution_count": null,
   "metadata": {},
   "outputs": [],
   "source": [
    "tplgy_ID = []\n",
    "loss = []\n",
    "acc = []\n",
    "\n",
    "for tplgy in tplgys:\n",
    "    tmp1 = []\n",
    "    tmp2 = []\n",
    "    tmp3 = []\n",
    "    for line in tplgy:\n",
    "        tmp1.append(int(line.split(' ')[1]))\n",
    "        tmp2.append(float(line.split(' ')[-3]))\n",
    "        tmp3.append(float(line.split(' ')[-1]))\n",
    "    tplgy_ID.append(tmp1)\n",
    "    loss.append(tmp2)\n",
    "    acc.append(tmp3)\n",
    "print(tplgy_ID)\n",
    "print(loss)\n",
    "print(acc)"
   ]
  },
  {
   "cell_type": "code",
   "execution_count": null,
   "metadata": {},
   "outputs": [],
   "source": [
    "exec_times = []\n",
    "for tplgy in raw_tplgys:\n",
    "    exec_times.append(float(tplgy[-1].split(' ')[1])/60)\n",
    "print(exec_times)"
   ]
  },
  {
   "cell_type": "code",
   "execution_count": null,
   "metadata": {},
   "outputs": [],
   "source": [
    "print(acc[0])"
   ]
  },
  {
   "cell_type": "code",
   "execution_count": null,
   "metadata": {},
   "outputs": [],
   "source": [
    "# Mean accuracy of connected agents in topology 3\n",
    "print('Mean: ' + str(np.mean(acc[2][:-2])))"
   ]
  },
  {
   "cell_type": "code",
   "execution_count": null,
   "metadata": {},
   "outputs": [],
   "source": [
    "# Mean and var for accuracies in topoligies 2-4\n",
    "tmp2 = []\n",
    "for elems in acc[2:]:\n",
    "    for e in elems[:-2]:\n",
    "        tmp2.append(e)\n",
    "print('Mean: ' + str(np.mean(tmp2)))\n",
    "print('Var: ' + str(np.var(tmp2)))\n",
    "#a = np.mean(acc[2:][:][:-2])\n",
    "#print(a)"
   ]
  },
  {
   "cell_type": "markdown",
   "metadata": {},
   "source": [
    "### Accuracies per node ID after *n* comm rounds"
   ]
  },
  {
   "cell_type": "code",
   "execution_count": null,
   "metadata": {},
   "outputs": [],
   "source": [
    "font = {'size': 9}\n",
    "plt.rc('font', **font)\n",
    "viridis = cm.get_cmap('viridis', 9)\n",
    "plt.plot(tplgy_ID[0], acc[0], '.', color=viridis(0))\n",
    "plt.plot(tplgy_ID[1], acc[1], '.', color=viridis(0.1))\n",
    "plt.plot(tplgy_ID[2], acc[2], '.', color=viridis(0.2))\n",
    "plt.plot(tplgy_ID[3], acc[3], '.', color=viridis(0.3))\n",
    "plt.plot(tplgy_ID[4], acc[4], '.', color=viridis(0.4))\n",
    "plt.plot(tplgy_ID[5], acc[5], '.', color=viridis(0.5))\n",
    "plt.plot(tplgy_ID[6], acc[6], '.', color=viridis(0.6))\n",
    "plt.plot(tplgy_ID[7], acc[7], '.', color=viridis(0.7))\n",
    "plt.plot(tplgy_ID[8], acc[8], '.', color=viridis(0.8))\n",
    "plt.ylim(0, 1.)\n",
    "x = np.arange(0, num_agents, 1)\n",
    "plt.xticks(x)\n",
    "#plt.title(\"Tplgy 0\", fontsize=9)\n",
    "plt.xlabel('AgentID')\n",
    "plt.ylabel('Acc')\n",
    "plt.grid()\n",
    "\n",
    "ax = plt.gca()\n",
    "box = ax.get_position()\n",
    "ax.set_position([box.x0, box.y0, box.width * 0.8, box.height])\n",
    "lgd = ax.legend(['Tplgy 0', 'Tplgy 2', 'Tplgy 4', 'Tplgy 6', 'Tplgy 8','Tplgy 10', 'Tplgy 12', 'Tplgy 14', 'Tplgy 15'], loc='upper center',shadow=True, bbox_to_anchor=(0.5, -0.15), ncol = 5, fancybox= True)\n",
    "plt.savefig(save_path+run_name+'_summarized_acc.pdf', bbox_extra_artists=(lgd,), bbox_inches='tight')"
   ]
  },
  {
   "cell_type": "code",
   "execution_count": null,
   "metadata": {},
   "outputs": [],
   "source": [
    "# Reduce the number of topologies for visualization\n",
    "font = {'size': 9}\n",
    "plt.rc('font', **font)\n",
    "viridis = cm.get_cmap('viridis', 9)\n",
    "plt.plot(tplgy_ID[0], acc[0], '.', color=viridis(0))\n",
    "plt.plot(tplgy_ID[1], acc[1], '.', color=viridis(0.3))\n",
    "plt.plot(tplgy_ID[2], acc[2], '.', color=viridis(0.5))\n",
    "plt.plot(tplgy_ID[3], acc[3], '.', color=viridis(0.7))\n",
    "#plt.plot(tplgy_ID[4], acc[4], '.', color=viridis(0.4))\n",
    "#plt.plot(tplgy_ID[5], acc[5], '.', color=viridis(0.5))\n",
    "#plt.plot(tplgy_ID[6], acc[6], '.', color=viridis(0.6))\n",
    "#plt.plot(tplgy_ID[7], acc[7], '.', color=viridis(0.8))\n",
    "plt.plot(tplgy_ID[8], acc[8], '.', color=viridis(1.))\n",
    "plt.ylim(0, 1.)\n",
    "x = np.arange(0, num_agents, 1)\n",
    "plt.xticks(x)\n",
    "#plt.title(\"Tplgy 0\", fontsize=9)\n",
    "plt.xlabel('AgentID')\n",
    "plt.ylabel('Acc')\n",
    "plt.grid()\n",
    "\n",
    "ax = plt.gca()\n",
    "box = ax.get_position()\n",
    "ax.set_position([box.x0, box.y0, box.width * 0.8, box.height])\n",
    "lgd = ax.legend(['Tplgy 0', 'Tplgy 2', 'Tplgy 4', 'Tplgy 6','Tplgy 15'], loc='upper center',shadow=True, bbox_to_anchor=(0.5, -0.15), ncol = 5, fancybox= True)\n",
    "plt.savefig(save_path+run_name+'_summarized_acc.pdf', bbox_extra_artists=(lgd,), bbox_inches='tight')"
   ]
  },
  {
   "cell_type": "markdown",
   "metadata": {},
   "source": [
    "### Losses per node ID after *n* comm rounds"
   ]
  },
  {
   "cell_type": "code",
   "execution_count": null,
   "metadata": {},
   "outputs": [],
   "source": [
    "font = {'size': 9}\n",
    "plt.rc('font', **font)\n",
    "viridis = cm.get_cmap('viridis', 9)\n",
    "plt.plot(tplgy_ID[0], loss[0], '.', color=viridis(0))\n",
    "plt.plot(tplgy_ID[1], loss[1], '.', color=viridis(0.1))\n",
    "plt.plot(tplgy_ID[2], loss[2], '.', color=viridis(0.2))\n",
    "plt.plot(tplgy_ID[3], loss[3], '.', color=viridis(0.3))\n",
    "plt.plot(tplgy_ID[4], loss[4], '.', color=viridis(0.4))\n",
    "plt.plot(tplgy_ID[5], loss[5], '.', color=viridis(0.5))\n",
    "plt.plot(tplgy_ID[6], loss[6], '.', color=viridis(0.6))\n",
    "plt.plot(tplgy_ID[7], loss[7], '.', color=viridis(0.7))\n",
    "plt.plot(tplgy_ID[8], loss[8], '.', color=viridis(0.8))\n",
    "plt.ylim(0, 250)\n",
    "x = np.arange(0, num_agents, 1)\n",
    "plt.xticks(x)\n",
    "#plt.title(\"Tplgy 0\", fontsize=9)\n",
    "plt.xlabel('AgentID')\n",
    "plt.ylabel('Loss')\n",
    "plt.grid()\n",
    "\n",
    "ax = plt.gca()\n",
    "box = ax.get_position()\n",
    "ax.set_position([box.x0, box.y0, box.width * 0.8, box.height])\n",
    "\n",
    "lgd = ax.legend(['Tplgy 0', 'Tplgy 2', 'Tplgy 4', 'Tplgy 6', 'Tplgy 8','Tplgy 10', 'Tplgy 12', 'Tplgy 14', 'Tplgy 15'], loc='upper center',shadow=True, bbox_to_anchor=(0.5, -0.15), ncol = 5, fancybox= True)\n",
    "plt.savefig(save_path+run_name+'_summarized_loss.pdf', bbox_extra_artists=(lgd,), bbox_inches='tight')"
   ]
  },
  {
   "cell_type": "markdown",
   "metadata": {},
   "source": [
    "### Loss evolution of each agent by topology"
   ]
  },
  {
   "cell_type": "code",
   "execution_count": null,
   "metadata": {},
   "outputs": [],
   "source": [
    "#VISUALIZE LOSSES PER TOPOLOGY AND AGENT\n",
    "loss_per_tplgy = []\n",
    "num_rounds = 2048\n",
    "for tplgy in raw_tplgys:\n",
    "    tmp = tplgy[1].split()\n",
    "    tmp_loss = []\n",
    "    for i in range(1,num_rounds + 1):\n",
    "        tmp_loss.append((float(tmp[2*i][:-1])))\n",
    "    loss_per_tplgy.append(tmp_loss)"
   ]
  },
  {
   "cell_type": "code",
   "execution_count": null,
   "metadata": {},
   "outputs": [],
   "source": [
    "#VISUALIZE LOSSES PER TOPOLOGY AND AGENT\n",
    "loss_per_tplgy_by_agent = []\n",
    "num_rounds = 2048\n",
    "for loss_tplgy in loss_per_tplgy:\n",
    "    loss_per_agent = []\n",
    "    for i in range(num_agents):\n",
    "        tmp_loss = []\n",
    "        for j in range(1+i, num_rounds, num_agents):\n",
    "            tmp_loss.append((loss_tplgy[j]))\n",
    "        loss_per_agent.append(tmp_loss)\n",
    "    loss_per_tplgy_by_agent.append(loss_per_agent)"
   ]
  },
  {
   "cell_type": "code",
   "execution_count": null,
   "metadata": {},
   "outputs": [],
   "source": [
    "#VISUALIZE LOSSES PER TOPOLOGY AND AGENT\n",
    "viridis = cm.get_cmap('viridis', 20)\n",
    "font = {'size': 9}\n",
    "titles = ['Tplgy 0', 'Tplgy 2', 'Tplgy 4', 'Tplgy 6', 'Tplgy 8','Tplgy 10', 'Tplgy 12', 'Tplgy 14', 'Tplgy 15']\n",
    "for i in range(9):\n",
    "    plt.rc('font', **font)\n",
    "    plt.plot(loss_per_tplgy_by_agent[i][0], color=viridis(0.))\n",
    "    plt.plot(loss_per_tplgy_by_agent[i][1], color=viridis(0.05))\n",
    "    plt.plot(loss_per_tplgy_by_agent[i][2], color=viridis(0.1))\n",
    "    plt.plot(loss_per_tplgy_by_agent[i][3], color=viridis(0.15))\n",
    "    plt.plot(loss_per_tplgy_by_agent[i][4], color=viridis(0.2))\n",
    "    plt.plot(loss_per_tplgy_by_agent[i][5], color=viridis(0.25))\n",
    "    plt.plot(loss_per_tplgy_by_agent[i][6], color=viridis(0.3))\n",
    "    plt.plot(loss_per_tplgy_by_agent[i][7], color=viridis(0.35))\n",
    "    plt.plot(loss_per_tplgy_by_agent[i][8], color=viridis(0.4))\n",
    "    plt.plot(loss_per_tplgy_by_agent[i][9], color=viridis(0.45))\n",
    "    plt.plot(loss_per_tplgy_by_agent[i][10],color=viridis(0.5))\n",
    "    plt.plot(loss_per_tplgy_by_agent[i][11],color=viridis(0.55))\n",
    "    plt.plot(loss_per_tplgy_by_agent[i][12],color=viridis(0.6))\n",
    "    plt.plot(loss_per_tplgy_by_agent[i][13],color=viridis(0.65))\n",
    "    plt.plot(loss_per_tplgy_by_agent[i][14],color=viridis(0.7))\n",
    "    plt.plot(loss_per_tplgy_by_agent[i][15],color=viridis(0.75))\n",
    "    plt.plot(loss_per_tplgy_by_agent[i][16],color=viridis(0.8))\n",
    "    plt.plot(loss_per_tplgy_by_agent[i][17],color=viridis(0.85))\n",
    "    plt.plot(loss_per_tplgy_by_agent[i][18],color=viridis(0.9))\n",
    "    plt.plot(loss_per_tplgy_by_agent[i][19],color=viridis(0.95))\n",
    "    plt.ylim(0, 250)\n",
    "    plt.xlabel('Comm Round')\n",
    "    plt.ylabel('Loss')\n",
    "    plt.title(titles[i])\n",
    "    plt.grid()\n",
    "\n",
    "    ax = plt.gca()\n",
    "    box = ax.get_position()\n",
    "    ax.set_position([box.x0, box.y0, box.width * 0.8, box.height])\n",
    "\n",
    "    ax.legend(['Agent 0', 'Agent 1', 'Agent 2', 'Agent 3', 'Agent 4', 'Agent 5', 'Agent 6', 'Agent 7', 'Agent 8', 'Agent 9', 'Agent 10', 'Agent 11', 'Agent 12', 'Agent 13', 'Agent 14', 'Agent 15', 'Agent 16', 'Agent 17', 'Agent 18', 'Agent 19'], loc='center left', bbox_to_anchor=(1, 0.5))\n",
    "\n",
    "    plt.savefig(save_path+str(i)+'_'+run_name+'_raw_summarized_loss.pdf')\n",
    "    plt.show()\n"
   ]
  },
  {
   "cell_type": "markdown",
   "metadata": {},
   "source": [
    "### Performance (Acc) evolution of each agent by topology"
   ]
  },
  {
   "cell_type": "code",
   "execution_count": null,
   "metadata": {},
   "outputs": [],
   "source": [
    "'''Visualize acc average per pool and comm round'''\n",
    "\n",
    "acc1 = []\n",
    "for accuracies in acc_distr:\n",
    "    acc2 = []\n",
    "    for acc in accuracies:\n",
    "        #res = [float(idx) for idx in acc.split(' ')]\n",
    "        res = []\n",
    "        for idx in acc.split(' '):\n",
    "            f_idx = float(idx)\n",
    "            if f_idx == 1.0:\n",
    "                f_idx = 0.0\n",
    "            res.append(f_idx)\n",
    "        acc2.append(np.average(res))\n",
    "    acc1.append(acc2)"
   ]
  },
  {
   "cell_type": "code",
   "execution_count": null,
   "metadata": {},
   "outputs": [],
   "source": [
    "'''Create sets with exec times'''\n",
    "acc_per_nodes = []\n",
    "for i in range(num_agents):\n",
    "    tmp_tplgy = []\n",
    "    for j in range(9):\n",
    "        tmp_tplgy.append(acc1[j][i::20])\n",
    "    acc_per_nodes.append(tmp_tplgy)"
   ]
  },
  {
   "cell_type": "code",
   "execution_count": null,
   "metadata": {},
   "outputs": [],
   "source": [
    "font = {'size': 9}\n",
    "viridis = cm.get_cmap('viridis', 20)\n",
    "for node in range(num_agents):\n",
    "    plt.rc('font', **font)\n",
    "    for i in range(9):\n",
    "        plt.plot(acc_per_nodes[node][i], color=viridis(0.12*i))\n",
    "    #x = np.arange(0, num_rounds, 1)\n",
    "    #plt.xticks(x)\n",
    "    plt.ylim(0.0, 1.0)\n",
    "    plt.title('Node ' + str(node))\n",
    "    plt.xlabel('Comm Round')\n",
    "    plt.ylabel('Acc')\n",
    "    plt.grid()\n",
    "    ax = plt.gca()\n",
    "    box = ax.get_position()\n",
    "    ax.set_position([box.x0, box.y0, box.width * 0.8, box.height])\n",
    "    ax.legend(['Tplgy 0', 'Tplgy 2', 'Tplgy 4', 'Tplgy 6', 'Tplgy 8','Tplgy 10', 'Tplgy 12', 'Tplgy 14', 'Tplgy 15'], loc='center left', bbox_to_anchor=(1, 0.5))\n",
    "    plt.savefig(save_path+'node'+ str(node) +'_distr_val_acc.pdf')\n",
    "    plt.show()"
   ]
  },
  {
   "cell_type": "markdown",
   "metadata": {},
   "source": [
    "### Execution times"
   ]
  },
  {
   "cell_type": "code",
   "execution_count": null,
   "metadata": {},
   "outputs": [],
   "source": [
    "'''Visualize Exec times per topology'''\n",
    "font = {'size': 9}\n",
    "plt.rc('font', **font)\n",
    "x = [0, 2, 4, 6, 8, 10, 12, 14, 15]\n",
    "plt.plot(x, exec_times, '.')\n",
    "plt.xticks(x)\n",
    "plt.xlabel(\"tplgy\")\n",
    "plt.ylabel(\"mins\")\n",
    "plt.title(\"Exec times \" + run_name)\n",
    "plt.grid()\n",
    "plt.savefig(save_path+run_name+'_exec_times.pdf')\n",
    "plt.show()"
   ]
  }
 ],
 "metadata": {
  "kernelspec": {
   "display_name": "Python 3",
   "language": "python",
   "name": "python3"
  },
  "language_info": {
   "codemirror_mode": {
    "name": "ipython",
    "version": 3
   },
   "file_extension": ".py",
   "mimetype": "text/x-python",
   "name": "python",
   "nbconvert_exporter": "python",
   "pygments_lexer": "ipython3",
   "version": "3.10.12"
  }
 },
 "nbformat": 4,
 "nbformat_minor": 2
}
