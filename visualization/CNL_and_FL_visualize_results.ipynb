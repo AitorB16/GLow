{
 "cells": [
  {
   "cell_type": "code",
   "execution_count": null,
   "metadata": {},
   "outputs": [],
   "source": [
    "from logging import WARNING, INFO\n",
    "from typing import Callable, Dict, List, Optional, Tuple, Union\n",
    "import numpy as np\n",
    "import yaml\n",
    "from pathlib import Path\n",
    "import matplotlib.pyplot as plt"
   ]
  },
  {
   "cell_type": "markdown",
   "metadata": {},
   "source": [
    "## Visualize CNL results"
   ]
  },
  {
   "cell_type": "code",
   "execution_count": null,
   "metadata": {},
   "outputs": [],
   "source": [
    "run_name = 'CNL_102'\n",
    "save_path = '../plots/'\n",
    "file_path = '../outputs/CNL/CIFAR10/'\n",
    "num_epochs = 101"
   ]
  },
  {
   "cell_type": "code",
   "execution_count": null,
   "metadata": {},
   "outputs": [],
   "source": [
    "# Read file\n",
    "file = open(file_path+run_name+'.out', mode = 'r', encoding = 'utf-8-sig')\n",
    "lines = file.readlines()\n",
    "file.close()"
   ]
  },
  {
   "cell_type": "code",
   "execution_count": null,
   "metadata": {},
   "outputs": [],
   "source": [
    "tmp1 = []\n",
    "for line in lines:\n",
    "    tmp1.append((line.split(' ')))"
   ]
  },
  {
   "cell_type": "code",
   "execution_count": null,
   "metadata": {},
   "outputs": [],
   "source": [
    "print('Accuracy CNL: ' + str(tmp1[0][1]))"
   ]
  },
  {
   "cell_type": "code",
   "execution_count": null,
   "metadata": {},
   "outputs": [],
   "source": [
    "tmp1 = tmp1[1][1:]\n",
    "loss = []\n",
    "for i in tmp1:\n",
    "    loss.append(float(i))\n",
    "    "
   ]
  },
  {
   "cell_type": "code",
   "execution_count": null,
   "metadata": {},
   "outputs": [],
   "source": [
    "plt.plot(np.arange(num_epochs), loss[:-1])\n",
    "plt.ylim(0, 2.5)\n",
    "plt.xlabel('Epoch')\n",
    "plt.ylabel('Loss')\n",
    "plt.title('CNL')\n",
    "plt.grid()\n",
    "plt.savefig(save_path+run_name+'_summarized_loss.pdf')"
   ]
  },
  {
   "cell_type": "markdown",
   "metadata": {},
   "source": [
    "## Visualize FL results"
   ]
  },
  {
   "cell_type": "code",
   "execution_count": null,
   "metadata": {},
   "outputs": [],
   "source": [
    "run_name = '8_32'\n",
    "save_path = '../plots/'\n",
    "file_path = '../outputs/FL/CIFAR10/'\n",
    "num_epochs = 101"
   ]
  },
  {
   "cell_type": "code",
   "execution_count": null,
   "metadata": {},
   "outputs": [],
   "source": [
    "# Read file\n",
    "file = open(file_path+run_name+'.out', mode = 'r', encoding = 'utf-8-sig')\n",
    "lines = file.readlines()\n",
    "file.close()"
   ]
  },
  {
   "cell_type": "code",
   "execution_count": null,
   "metadata": {},
   "outputs": [],
   "source": [
    "tmp1 = []\n",
    "for line in lines:\n",
    "    tmp1.append((line.split(' ')))"
   ]
  },
  {
   "cell_type": "code",
   "execution_count": null,
   "metadata": {},
   "outputs": [],
   "source": [
    "loss = []\n",
    "acc = []\n",
    "for i in range(num_epochs):\n",
    "    loss.append(float(tmp1[1][2*(i+1)][:-1]))\n",
    "    acc.append(float(tmp1[4][2*(i+1)][:-1]))\n",
    "    "
   ]
  },
  {
   "cell_type": "code",
   "execution_count": null,
   "metadata": {},
   "outputs": [],
   "source": [
    "plt.plot(np.arange(num_epochs), acc)\n",
    "plt.ylim(0, 1)\n",
    "plt.xlabel('Comm Round')\n",
    "plt.ylabel('Acc')\n",
    "plt.title('FL')\n",
    "plt.grid()\n",
    "plt.savefig(save_path+run_name+'_FL_summarized_acc.pdf')"
   ]
  },
  {
   "cell_type": "code",
   "execution_count": null,
   "metadata": {},
   "outputs": [],
   "source": [
    "print('Accuracy FL: ' + str(acc[-1]))"
   ]
  },
  {
   "cell_type": "code",
   "execution_count": null,
   "metadata": {},
   "outputs": [],
   "source": [
    "plt.plot(np.arange(num_epochs), loss)\n",
    "plt.ylim(0, 250)\n",
    "plt.xlabel('Comm Round')\n",
    "plt.ylabel('Loss')\n",
    "plt.title('FL')\n",
    "plt.grid()\n",
    "plt.savefig(save_path+run_name+'_FL_summarized_loss.pdf')"
   ]
  }
 ],
 "metadata": {
  "kernelspec": {
   "display_name": "Python 3",
   "language": "python",
   "name": "python3"
  },
  "language_info": {
   "codemirror_mode": {
    "name": "ipython",
    "version": 3
   },
   "file_extension": ".py",
   "mimetype": "text/x-python",
   "name": "python",
   "nbconvert_exporter": "python",
   "pygments_lexer": "ipython3",
   "version": "3.10.12"
  }
 },
 "nbformat": 4,
 "nbformat_minor": 2
}
