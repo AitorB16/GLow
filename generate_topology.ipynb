{
 "cells": [
  {
   "cell_type": "code",
   "execution_count": 15,
   "metadata": {},
   "outputs": [],
   "source": [
    "from logging import WARNING, INFO\n",
    "from typing import Callable, Dict, List, Optional, Tuple, Union\n",
    "import numpy as np\n",
    "import yaml"
   ]
  },
  {
   "cell_type": "code",
   "execution_count": 16,
   "metadata": {},
   "outputs": [],
   "source": [
    "save_path = './conf/topologies/'"
   ]
  },
  {
   "cell_type": "code",
   "execution_count": 17,
   "metadata": {},
   "outputs": [],
   "source": [
    "def save_to_yaml(max_num_clients_per_round: int, topology: List[List[int]], clients_with_no_data: List[int], last_connected_client: int,  path: str, name: str):\n",
    "    num_nodes = len(topology)\n",
    "    #GPU_share = 1.0/max_num_clients_per_round\n",
    "    pools = {}\n",
    "    for node in range(num_nodes):\n",
    "        pools['p'+str(node)] = topology[node]\n",
    "    data = {\n",
    "        'num_clients': num_nodes,\n",
    "        'max_num_clients_per_round': max_num_clients_per_round,\n",
    "        'clients_with_no_data': clients_with_no_data,\n",
    "        'last_connected_client': last_connected_client,\n",
    "        'pools': pools\n",
    "    }\n",
    "    \n",
    "    with open(path+name, 'w') as yaml_file:\n",
    "        yaml.dump(data, yaml_file, default_flow_style=False, sort_keys=False)\n"
   ]
  },
  {
   "cell_type": "code",
   "execution_count": 18,
   "metadata": {},
   "outputs": [],
   "source": [
    "def generate_chain(num_nodes: int, islands: Optional[int], leafs: Optional[int]=0):\n",
    "    pool = []\n",
    "    for i in range(num_nodes):\n",
    "        if i == 0:\n",
    "            pool.append([i, i+1])\n",
    "        elif i == num_nodes-1:\n",
    "            pool.append([i, i-1])\n",
    "        else:\n",
    "            pool.append([i, i-1, i+1])\n",
    "    for i in range(num_nodes, num_nodes+islands):\n",
    "        pool.append([i])\n",
    "    return pool"
   ]
  },
  {
   "cell_type": "code",
   "execution_count": 19,
   "metadata": {},
   "outputs": [
    {
     "name": "stdout",
     "output_type": "stream",
     "text": [
      "[[0, 1], [1, 0, 2], [2, 1, 3], [3, 2, 4], [4, 3, 5], [5, 4, 6], [6, 5, 7], [7, 6, 8], [8, 7, 9], [9, 8, 10], [10, 9, 11], [11, 10, 12], [12, 11, 13], [13, 12, 14], [14, 13, 15], [15, 14, 16], [16, 15, 17], [17, 16, 18], [18, 17, 19], [19, 18, 20], [20, 19, 21], [21, 20, 22], [22, 21, 23], [23, 22, 24], [24, 23, 25], [25, 24, 26], [26, 25, 27], [27, 26, 28], [28, 27, 29], [29, 28], [30], [31], [32], [33], [34]]\n"
     ]
    }
   ],
   "source": [
    "chain = generate_chain(num_nodes=30,islands=5)\n",
    "print(chain)\n",
    "save_to_yaml(max_num_clients_per_round=3, topology=chain, clients_with_no_data=[0,5,10,33,34], last_connected_client=29, path=save_path, name='chain30+5.yaml')"
   ]
  },
  {
   "cell_type": "code",
   "execution_count": 41,
   "metadata": {},
   "outputs": [],
   "source": [
    "def generate_cross_chain(num_crosses: int, islands: Optional[int]):\n",
    "    pool = []\n",
    "    num_crosses += 2 #First and last nodes in axis 0 are leafs\n",
    "    for i in range(num_crosses): \n",
    "        if i == 0:\n",
    "            pool.append([i, i+1])\n",
    "        elif i == num_crosses-1:\n",
    "            pool.append([i, i-1])\n",
    "        else:\n",
    "            pool.append([i, i-1, i+1])\n",
    "    for i in range(0, num_crosses-2):\n",
    "        pool[i+1] = np.concatenate((pool[i+1], [2*i + num_crosses, 2*i+ num_crosses+1]), axis=None).tolist()\n",
    "        pool.append([2*i + num_crosses, i+1])\n",
    "        pool.append([2*i + num_crosses + 1, i+1])\n",
    "    \n",
    "    for i in range(len(pool), len(pool) + islands):\n",
    "        pool.append([i])\n",
    "    return pool"
   ]
  },
  {
   "cell_type": "code",
   "execution_count": 42,
   "metadata": {},
   "outputs": [
    {
     "name": "stdout",
     "output_type": "stream",
     "text": [
      "[[0, 1], [1, 0, 2, 12, 13], [2, 1, 3, 14, 15], [3, 2, 4, 16, 17], [4, 3, 5, 18, 19], [5, 4, 6, 20, 21], [6, 5, 7, 22, 23], [7, 6, 8, 24, 25], [8, 7, 9, 26, 27], [9, 8, 10, 28, 29], [10, 9, 11, 30, 31], [11, 10], [12, 1], [13, 1], [14, 2], [15, 2], [16, 3], [17, 3], [18, 4], [19, 4], [20, 5], [21, 5], [22, 6], [23, 6], [24, 7], [25, 7], [26, 8], [27, 8], [28, 9], [29, 9], [30, 10], [31, 10], [32], [33], [34], [35], [36]]\n"
     ]
    }
   ],
   "source": [
    "cross_chain = generate_cross_chain(num_crosses=10, islands=5)\n",
    "print(cross_chain)\n",
    "save_to_yaml(max_num_clients_per_round=5, topology=cross_chain, clients_with_no_data=[0,5,15,20,35,36], last_connected_client=29, path=save_path, name='cross_chain30+5.yaml')"
   ]
  },
  {
   "cell_type": "code",
   "execution_count": 22,
   "metadata": {},
   "outputs": [],
   "source": [
    "def generate_ring(num_nodes: int, islands: Optional[int], leafs: Optional[int]=0):\n",
    "    pool = []\n",
    "    for i in range(num_nodes):\n",
    "        if i == 0:\n",
    "            pool.append([i, num_nodes-1, i+1])\n",
    "        elif i == num_nodes-1:\n",
    "            pool.append([i, 0, i-1])\n",
    "        else:\n",
    "            pool.append([i, i-1, i+1])\n",
    "    for i in range(num_nodes, num_nodes+islands):\n",
    "        pool.append([i])\n",
    "    return pool"
   ]
  },
  {
   "cell_type": "code",
   "execution_count": 23,
   "metadata": {},
   "outputs": [
    {
     "name": "stdout",
     "output_type": "stream",
     "text": [
      "[[0, 29, 1], [1, 0, 2], [2, 1, 3], [3, 2, 4], [4, 3, 5], [5, 4, 6], [6, 5, 7], [7, 6, 8], [8, 7, 9], [9, 8, 10], [10, 9, 11], [11, 10, 12], [12, 11, 13], [13, 12, 14], [14, 13, 15], [15, 14, 16], [16, 15, 17], [17, 16, 18], [18, 17, 19], [19, 18, 20], [20, 19, 21], [21, 20, 22], [22, 21, 23], [23, 22, 24], [24, 23, 25], [25, 24, 26], [26, 25, 27], [27, 26, 28], [28, 27, 29], [29, 0, 28], [30], [31], [32], [33], [34]]\n"
     ]
    }
   ],
   "source": [
    "ring = generate_ring(num_nodes=30, islands=5)\n",
    "print(ring)\n",
    "save_to_yaml(max_num_clients_per_round=3, topology=ring, clients_with_no_data=[0,5,10,33,34], last_connected_client=29, path=save_path, name='ring30+5.yaml')"
   ]
  },
  {
   "cell_type": "code",
   "execution_count": 24,
   "metadata": {},
   "outputs": [],
   "source": [
    "def generate_ring_chain(num_rings: int, ring_size: int, islands: Optional[int], leafs: Optional[int]=0, joint_rings: Optional[bool] = False):\n",
    "    pool = []\n",
    "    for i in range(num_rings):\n",
    "        for j in range(ring_size):\n",
    "            if j == 0:\n",
    "                pool.append([i*ring_size, i*ring_size+1, (i+1)*ring_size-1])\n",
    "            elif j == ring_size - 1:\n",
    "                pool.append([i*ring_size+j, i*ring_size+j-1, i*ring_size])\n",
    "            else:\n",
    "                pool.append([i*ring_size+j, i*ring_size+j-1, i*ring_size+j+1])\n",
    "    for i in range(num_rings):\n",
    "        if i == 0:\n",
    "             pool[(i+1)*ring_size-1].append((i+1)*ring_size)\n",
    "        elif i == num_rings-1:\n",
    "             pool[(i*ring_size)].append(i*ring_size-1)\n",
    "        else:\n",
    "            pool[(i*ring_size)].append(i*ring_size-1)\n",
    "            pool[(i+1)*ring_size-1].append((i+1)*ring_size)\n",
    "    for i in range(num_rings*ring_size, num_rings*ring_size+islands):\n",
    "        pool.append([i])\n",
    "    return pool"
   ]
  },
  {
   "cell_type": "code",
   "execution_count": 25,
   "metadata": {},
   "outputs": [
    {
     "name": "stdout",
     "output_type": "stream",
     "text": [
      "[[0, 1, 4], [1, 0, 2], [2, 1, 3], [3, 2, 4], [4, 3, 0, 5], [5, 6, 9, 4], [6, 5, 7], [7, 6, 8], [8, 7, 9], [9, 8, 5, 10], [10, 11, 14, 9], [11, 10, 12], [12, 11, 13], [13, 12, 14], [14, 13, 10, 15], [15, 16, 19, 14], [16, 15, 17], [17, 16, 18], [18, 17, 19], [19, 18, 15, 20], [20, 21, 24, 19], [21, 20, 22], [22, 21, 23], [23, 22, 24], [24, 23, 20, 25], [25, 26, 29, 24], [26, 25, 27], [27, 26, 28], [28, 27, 29], [29, 28, 25], [30], [31], [32], [33], [34]]\n"
     ]
    }
   ],
   "source": [
    "ring_chain = generate_ring_chain(num_rings=6, ring_size=5, islands=5)\n",
    "print(ring_chain)\n",
    "save_to_yaml(max_num_clients_per_round=4, topology=ring_chain, clients_with_no_data=[0,5,10,33,34], last_connected_client=29, path=save_path, name='ring_chain30+5.yaml')"
   ]
  },
  {
   "cell_type": "code",
   "execution_count": 26,
   "metadata": {},
   "outputs": [],
   "source": [
    "def generate_ring_ring(num_nodes: int, ring_sizes: int, islands: Optional[int], leafs: Optional[int]=0, joint_rings: Optional[bool] = False):\n",
    "    None"
   ]
  },
  {
   "cell_type": "code",
   "execution_count": 27,
   "metadata": {},
   "outputs": [],
   "source": [
    "def generate_star(num_nodes: int, islands: Optional[int], leafs: Optional[int]=0):\n",
    "    None"
   ]
  },
  {
   "cell_type": "code",
   "execution_count": 28,
   "metadata": {},
   "outputs": [],
   "source": [
    "# with open(save_path+'test.yaml', 'r') as file:\n",
    "#     prime_service = yaml.safe_load(file)\n",
    "# prime_service['pools']['p0']"
   ]
  },
  {
   "cell_type": "code",
   "execution_count": null,
   "metadata": {},
   "outputs": [],
   "source": []
  }
 ],
 "metadata": {
  "kernelspec": {
   "display_name": "Python 3",
   "language": "python",
   "name": "python3"
  },
  "language_info": {
   "codemirror_mode": {
    "name": "ipython",
    "version": 3
   },
   "file_extension": ".py",
   "mimetype": "text/x-python",
   "name": "python",
   "nbconvert_exporter": "python",
   "pygments_lexer": "ipython3",
   "version": "3.10.12"
  }
 },
 "nbformat": 4,
 "nbformat_minor": 2
}
