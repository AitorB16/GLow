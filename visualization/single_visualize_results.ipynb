{
 "cells": [
  {
   "cell_type": "code",
   "execution_count": null,
   "metadata": {},
   "outputs": [],
   "source": [
    "from logging import WARNING, INFO\n",
    "#from typing import Callable, Dict, List, Optional, Tuple, Union\n",
    "import numpy as np\n",
    "from pathlib import Path\n",
    "import matplotlib.pyplot as plt\n",
    "from matplotlib import cm"
   ]
  },
  {
   "cell_type": "code",
   "execution_count": null,
   "metadata": {},
   "outputs": [],
   "source": [
    "run_name = '01234567_2'\n",
    "#seed = '1999'\n",
    "save_path = '../plots/NIID/dirichlet_04/attention_ring/'\n",
    "#file_path = 'outputs/no_pretrain/' + 'seed_' + seed + '/' + run_name #NEED TO READ ALL FILES\n",
    "root = '../outputs/NIID/dirichlet_04/attention_ring/'\n",
    "file_path = root + run_name\n",
    "num_agents = 10"
   ]
  },
  {
   "cell_type": "code",
   "execution_count": null,
   "metadata": {},
   "outputs": [],
   "source": [
    "tplgys = []\n",
    "raw_tplgys = []\n",
    "acc_distr = []\n",
    "# Read file\n",
    "file = open(file_path+'/0_pool.out', mode = 'r', encoding = 'utf-8-sig')\n",
    "lines = file.readlines()\n",
    "tplgys.append(lines)\n",
    "file.close()\n",
    "# Read file\n",
    "file = open(file_path+'/raw.out', mode = 'r', encoding = 'utf-8-sig')\n",
    "r_lines = file.readlines()\n",
    "raw_tplgys.append(r_lines)\n",
    "file.close()"
   ]
  },
  {
   "cell_type": "code",
   "execution_count": null,
   "metadata": {},
   "outputs": [],
   "source": [
    "tplgy_ID = []\n",
    "loss = []\n",
    "acc = []\n",
    "\n",
    "for line in tplgys[0]:\n",
    "    tplgy_ID.append(int(line.split(' ')[1]))\n",
    "    loss.append(float(line.split(' ')[-3]))\n",
    "    acc.append(float(line.split(' ')[-1]))\n",
    "    \n",
    "print(loss)\n",
    "print(acc)"
   ]
  },
  {
   "cell_type": "code",
   "execution_count": null,
   "metadata": {},
   "outputs": [],
   "source": [
    "exec_times = []\n",
    "for tplgy in raw_tplgys:\n",
    "    exec_times.append(float(tplgy[-1].split(' ')[1])/60)\n",
    "print(exec_times)"
   ]
  },
  {
   "cell_type": "code",
   "execution_count": null,
   "metadata": {},
   "outputs": [],
   "source": [
    "# fig, axs = plt.subplots(3, 2)\n",
    "# axs[0, 0].plot(tplgy_ID[0], acc[0], '.')\n",
    "# axs[0, 0].set_ylim(0, 0.8)\n",
    "# axs[0, 0].set_title(\"Tplgy 0\", fontsize=9)\n",
    "# axs[0, 1].plot(tplgy_ID[1], acc[1], '.')\n",
    "# axs[0, 1].set_ylim(0, 0.8)\n",
    "# axs[0, 1].set_title(\"Tplgy 1\", fontsize=9)\n",
    "# axs[1, 0].plot(tplgy_ID[2], acc[2], '.')\n",
    "# axs[1, 0].set_ylim(0, 0.8)\n",
    "# axs[1, 0].set_title(\"Tplgy 2\", fontsize=9)\n",
    "# axs[1, 1].plot(tplgy_ID[3], acc[3], '.')\n",
    "# axs[1, 1].set_ylim(0, 0.8)\n",
    "# axs[1, 1].set_title(\"Tplgy 3\", fontsize=9)\n",
    "# axs[2, 0].plot(tplgy_ID[4], acc[4], '.')\n",
    "# axs[2, 0].set_ylim(0, 0.8)\n",
    "# axs[2, 0].set_title(\"Tplgy 4\", fontsize=9)\n",
    "# \n",
    "# for ax in axs.flat:\n",
    "#     ax.set(xlabel='Node ID', ylabel='Acc')\n",
    "# \n",
    "# # Hide x labels and tick labels for top plots and y ticks for right plots.\n",
    "# for ax in axs.flat:\n",
    "#     ax.label_outer()\n",
    "# \n",
    "# plt.savefig(save_path+run_name+'_acc.pdf')"
   ]
  },
  {
   "cell_type": "code",
   "execution_count": null,
   "metadata": {},
   "outputs": [],
   "source": [
    "font = {'size': 9}\n",
    "plt.rc('font', **font)\n",
    "viridis = cm.get_cmap('viridis', 5)\n",
    "plt.plot(tplgy_ID, acc, '.', color=viridis(0))\n",
    "plt.ylim(0, 1.)\n",
    "x = np.arange(0, num_agents, 1)\n",
    "plt.xticks(x)\n",
    "#plt.title(\"Tplgy 0\", fontsize=9)\n",
    "plt.xlabel('AgentID')\n",
    "plt.ylabel('Acc')\n",
    "plt.grid()\n",
    "\n",
    "ax = plt.gca()\n",
    "box = ax.get_position()\n",
    "ax.set_position([box.x0, box.y0, box.width * 0.8, box.height])\n",
    "#lgd = ax.legend(['Tplgy 0', 'Tplgy 2', 'Tplgy 4', 'Tplgy 6', 'Tplgy 7'], loc='upper center',shadow=True, bbox_to_anchor=(0.5, -0.15), ncol = 5, fancybox= True)\n",
    "plt.savefig(save_path+run_name+'_summarized_acc.pdf')#, bbox_extra_artists=(lgd,), bbox_inches='tight')"
   ]
  },
  {
   "cell_type": "code",
   "execution_count": null,
   "metadata": {},
   "outputs": [],
   "source": [
    "# fig, axs = plt.subplots(3, 2)\n",
    "# axs[0, 0].plot(tplgy_ID[0], loss[0], '.')\n",
    "# axs[0, 0].set_ylim(50, 200)\n",
    "# axs[0, 0].set_title(\"Tplgy 0\", fontsize=9)\n",
    "# axs[0, 1].plot(tplgy_ID[1], loss[1], '.')\n",
    "# axs[0, 1].set_ylim(50, 200)\n",
    "# axs[0, 1].set_title(\"Tplgy 1\", fontsize=9)\n",
    "# axs[1, 0].plot(tplgy_ID[2], loss[2], '.')\n",
    "# axs[1, 0].set_ylim(50, 200)\n",
    "# axs[1, 0].set_title(\"Tplgy 2\", fontsize=9)\n",
    "# axs[1, 1].plot(tplgy_ID[3], loss[3], '.')\n",
    "# axs[1, 1].set_ylim(50, 200)\n",
    "# axs[1, 1].set_title(\"Tplgy 3\", fontsize=9)\n",
    "# axs[2, 0].plot(tplgy_ID[4], loss[4], '.')\n",
    "# axs[2, 0].set_ylim(50, 200)\n",
    "# axs[2, 0].set_title(\"Tplgy 4\", fontsize=9)\n",
    "# \n",
    "# for ax in axs.flat:\n",
    "#     ax.set(xlabel='Node ID', ylabel='Loss')\n",
    "# \n",
    "# # Hide x labels and tick labels for top plots and y ticks for right plots.\n",
    "# for ax in axs.flat:\n",
    "#     ax.label_outer()\n",
    "# \n",
    "# plt.savefig(save_path+run_name+'_loss.pdf')"
   ]
  },
  {
   "cell_type": "code",
   "execution_count": null,
   "metadata": {},
   "outputs": [],
   "source": [
    "print(loss)"
   ]
  },
  {
   "cell_type": "code",
   "execution_count": null,
   "metadata": {},
   "outputs": [],
   "source": [
    "font = {'size': 9}\n",
    "plt.rc('font', **font)\n",
    "viridis = cm.get_cmap('viridis', 5)\n",
    "plt.plot(tplgy_ID, loss, '.', color=viridis(0))\n",
    "x = np.arange(0, num_agents, 1)\n",
    "plt.xticks(x)\n",
    "plt.ylim(0, 250)\n",
    "\n",
    "#plt.title(\"Tplgy 0\", fontsize=9)\n",
    "plt.xlabel('AgentID')\n",
    "plt.ylabel('Loss')\n",
    "plt.grid()\n",
    "\n",
    "ax = plt.gca()\n",
    "box = ax.get_position()\n",
    "ax.set_position([box.x0, box.y0, box.width * 0.8, box.height])\n",
    "\n",
    "#lgd = ax.legend(['Tplgy 0', 'Tplgy 2', 'Tplgy 4', 'Tplgy 6', 'Tplgy 7'], loc='upper center', shadow = True, bbox_to_anchor=(0.5, -0.15), ncol = 5, fancybox= True)\n",
    "\n",
    "plt.savefig(save_path+run_name+'_summarized_loss.pdf')#, bbox_extra_artists=(lgd,), bbox_inches='tight')"
   ]
  },
  {
   "cell_type": "code",
   "execution_count": null,
   "metadata": {},
   "outputs": [],
   "source": [
    "#VISUALIZE LOSSES PER TOPOLOGY AND AGENT\n",
    "loss_per_tplgy = []\n",
    "num_rounds = 1020\n",
    "    \n",
    "tmp = raw_tplgys[0][1].split()\n",
    "for i in range(1,num_rounds+1):\n",
    "    loss_per_tplgy.append((float(tmp[2*i][:-1])))"
   ]
  },
  {
   "cell_type": "code",
   "execution_count": null,
   "metadata": {},
   "outputs": [],
   "source": [
    "print(loss_per_tplgy)"
   ]
  },
  {
   "cell_type": "code",
   "execution_count": null,
   "metadata": {},
   "outputs": [],
   "source": [
    "#VISUALIZE LOSSES PER TOPOLOGY AND AGENT\n",
    "loss_per_tplgy_by_agent = []\n",
    "num_rounds = 1020\n",
    "for i in range(num_agents):\n",
    "    tmp_loss = []\n",
    "    for j in range(i, num_rounds, num_agents):\n",
    "        tmp_loss.append((loss_per_tplgy[j]))\n",
    "    loss_per_tplgy_by_agent.append(tmp_loss)"
   ]
  },
  {
   "cell_type": "code",
   "execution_count": null,
   "metadata": {},
   "outputs": [],
   "source": [
    "print(len(loss_per_tplgy_by_agent[0]))"
   ]
  },
  {
   "cell_type": "code",
   "execution_count": null,
   "metadata": {},
   "outputs": [],
   "source": [
    "#VISUALIZE LOSSES PER TOPOLOGY AND AGENT\n",
    "viridis = cm.get_cmap('viridis', 10)\n",
    "plasma = cm.get_cmap('plasma', 10)\n",
    "font = {'size': 9}\n",
    "titles = ['Tplgy 0', 'Tplgy 2', 'Tplgy 4', 'Tplgy 6', 'Tplgy 7']\n",
    "\n",
    "for i in range(1):\n",
    "    plt.rc('font', **font)\n",
    "    plt.plot(loss_per_tplgy_by_agent[0], color=plasma(0.8))\n",
    "    plt.plot(loss_per_tplgy_by_agent[1], color=viridis(0.))\n",
    "    plt.plot(loss_per_tplgy_by_agent[2], color=viridis(0.1))\n",
    "    plt.plot(loss_per_tplgy_by_agent[3], color=viridis(0.2))\n",
    "    plt.plot(loss_per_tplgy_by_agent[4], color=plasma(0.7))\n",
    "    plt.plot(loss_per_tplgy_by_agent[5], color=viridis(0.3))\n",
    "    plt.plot(loss_per_tplgy_by_agent[6], color=viridis(0.4))\n",
    "    plt.plot(loss_per_tplgy_by_agent[7], color=viridis(0.5))\n",
    "    plt.plot(loss_per_tplgy_by_agent[8], color=viridis(0.85))\n",
    "    plt.plot(loss_per_tplgy_by_agent[9], color=plasma(0.6))\n",
    "    plt.ylim(0, 250)\n",
    "    plt.xlabel('Comm Round')\n",
    "    plt.ylabel('Loss')\n",
    "    plt.title(titles[i], fontsize=11)\n",
    "    ax = plt.gca()\n",
    "    box = ax.get_position()\n",
    "    ax.set_position([box.x0, box.y0, box.width * 0.8, box.height])\n",
    "    ax.legend(['Agent 0', 'Agent 1', 'Agent 2', 'Agent 3', 'Agent 4', 'Agent 5', 'Agent 6', 'Agent 7', 'Agent 8', 'Agent 9'], loc='center left', bbox_to_anchor=(1, 0.5))\n",
    "    plt.grid()\n",
    "    \n",
    "    plt.savefig(save_path + run_name+'_raw_summarized_loss.pdf')\n",
    "    plt.show()\n"
   ]
  },
  {
   "cell_type": "code",
   "execution_count": null,
   "metadata": {},
   "outputs": [],
   "source": [
    "# font = {'size': 5}\n",
    "# plt.rc('font', **font)\n",
    "# \n",
    "# #VISUALIZE LOSSES PER TOPOLOGY AND AGENT\n",
    "# viridis = cm.get_cmap('viridis', 10)\n",
    "# plasma = cm.get_cmap('plasma', 10)\n",
    "# \n",
    "# fig, axs = plt.subplots()\n",
    "# fig.tight_layout()\n",
    "# \n",
    "# axs.plot(loss_per_tplgy_by_agent[0][:24], color=plasma(0.8))\n",
    "# axs.plot(loss_per_tplgy_by_agent[1][:24], color=viridis(0.))\n",
    "# axs.plot(loss_per_tplgy_by_agent[2][:24], color=viridis(0.1))\n",
    "# axs.plot(loss_per_tplgy_by_agent[3][:24], color=viridis(0.2))\n",
    "# axs.plot(loss_per_tplgy_by_agent[4][:24], color=plasma(0.7))\n",
    "# axs.plot(loss_per_tplgy_by_agent[5][:24], color=viridis(0.3))\n",
    "# axs.plot(loss_per_tplgy_by_agent[6][:24], color=viridis(0.4))\n",
    "# axs.plot(loss_per_tplgy_by_agent[7][:24], color=viridis(0.5))\n",
    "# axs.plot(loss_per_tplgy_by_agent[8][:24], color=viridis(0.85))\n",
    "# axs.plot(loss_per_tplgy_by_agent[9][:24], color=plasma(0.4))\n",
    "# axs.grid()\n",
    "# axs.set_ylim(0, 250)\n",
    "# #axs[0, 0].set_xlabel('Comm Round')\n",
    "# #axs[0, 0].set_ylabel('Loss')\n",
    "# axs.set_title(\"Tplgy 0\", fontsize=6)\n",
    "# \n",
    "# ax = plt.gca()\n",
    "# box = ax.get_position()\n",
    "# #ax.set_position([box.x0, box.y0, box.width * 0.8, box.height])\n",
    "# lgd = ax.legend(['Agent 0 - ND', 'Agent 1 - R', 'Agent 2 - R', 'Agent 3 - R', 'Agent 4 - ND', 'Agent 5 - R', 'Agent 6 - R', 'Agent 7 - R', 'Agent 8 - D', 'Agent 9 - DND'], loc='upper center', shadow = True, bbox_to_anchor=(-0.15, -0.15), ncol = 5, fancybox= True)\n",
    "# \n",
    "# plt.savefig(save_path+run_name+'_top_loss.pdf', bbox_extra_artists=(lgd,), bbox_inches='tight')\n",
    "# plt.show()"
   ]
  },
  {
   "cell_type": "code",
   "execution_count": null,
   "metadata": {},
   "outputs": [],
   "source": [
    "# '''Visualize acc average per pool and comm round'''\n",
    "# \n",
    "# acc1 = []\n",
    "# for accuracies in acc_distr:\n",
    "#     acc2 = []\n",
    "#     for acc in accuracies:\n",
    "#         res = []\n",
    "#         for idx in acc.split(' '):\n",
    "#             f_idx = float(idx)\n",
    "#             if f_idx == 1.0:\n",
    "#                 f_idx = 0.0\n",
    "#             res.append(f_idx)\n",
    "#         #res = [float(idx) for idx in acc.split(' ')]\n",
    "#         if res == 1.0:\n",
    "#             res = 0.0\n",
    "#         acc2.append(np.average(res))\n",
    "#     acc1.append(acc2)"
   ]
  },
  {
   "cell_type": "code",
   "execution_count": null,
   "metadata": {},
   "outputs": [],
   "source": [
    "# '''Create sets with exec times'''\n",
    "# acc_per_nodes = []\n",
    "# for i in range(num_agents):\n",
    "#     tmp_tplgy = []\n",
    "#     for j in range(5):\n",
    "#         tmp_tplgy.append(acc1[j][i::10])\n",
    "#     acc_per_nodes.append(tmp_tplgy)"
   ]
  },
  {
   "cell_type": "code",
   "execution_count": null,
   "metadata": {},
   "outputs": [],
   "source": [
    "# viridis = cm.get_cmap('viridis', 10)\n",
    "# font = {'size': 9}\n",
    "# for node in range(num_agents):\n",
    "#     plt.rc('font', **font)\n",
    "#     for i in range(5):\n",
    "#         plt.plot(acc_per_nodes[node][i], color=viridis(0.1 * 2.*i))\n",
    "#     #x = np.arange(0, num_rounds, 1)\n",
    "#     #plt.xticks(x)\n",
    "#     plt.ylim(0.0, 1.0)\n",
    "#     plt.title('Node ' + str(node))\n",
    "#     plt.xlabel('Comm Round')\n",
    "#     plt.ylabel('Acc')\n",
    "#     plt.grid()\n",
    "# \n",
    "#     ax = plt.gca()\n",
    "#     box = ax.get_position()\n",
    "#     ax.set_position([box.x0, box.y0, box.width * 0.8, box.height])\n",
    "#     ax.legend(['Tplgy 0', 'Tplgy 1', 'Tplgy 2', 'Tplgy 3', 'Tplgy 4'], loc='center left', bbox_to_anchor=(1, 0.5))\n",
    "#     plt.savefig(save_path+'node'+ str(node) +'_distr_val_acc.pdf')\n",
    "#     plt.show()"
   ]
  },
  {
   "cell_type": "code",
   "execution_count": null,
   "metadata": {},
   "outputs": [],
   "source": [
    "# '''Visualize Exec times per topology'''\n",
    "# font = {'size': 9}\n",
    "# plt.rc('font', **font)\n",
    "# x = [0, 2, 4, 6, 7]\n",
    "# plt.plot(x, exec_times, '.')\n",
    "# plt.xticks(x)\n",
    "# plt.title(\"Exec times \" + run_name)\n",
    "# plt.xlabel(\"tplgy\")\n",
    "# plt.ylabel(\"mins\")\n",
    "# plt.grid()\n",
    "# plt.savefig(save_path+run_name+'_exec_times.pdf')\n",
    "# plt.show()"
   ]
  }
 ],
 "metadata": {
  "kernelspec": {
   "display_name": "Python 3",
   "language": "python",
   "name": "python3"
  },
  "language_info": {
   "codemirror_mode": {
    "name": "ipython",
    "version": 3
   },
   "file_extension": ".py",
   "mimetype": "text/x-python",
   "name": "python",
   "nbconvert_exporter": "python",
   "pygments_lexer": "ipython3",
   "version": "3.10.12"
  }
 },
 "nbformat": 4,
 "nbformat_minor": 2
}
